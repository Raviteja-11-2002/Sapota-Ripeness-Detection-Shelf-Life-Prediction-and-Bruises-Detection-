{
 "cells": [
  {
   "cell_type": "code",
   "execution_count": 17,
   "metadata": {},
   "outputs": [],
   "source": [
    "import tensorflow as tf\n",
    "from tensorflow.keras.applications import MobileNet\n",
    "from tensorflow.keras.layers import GlobalAveragePooling2D, Dense, Dropout, Flatten, BatchNormalization\n",
    "from tensorflow.keras.models import Model\n",
    "from tensorflow.keras.preprocessing.image import ImageDataGenerator\n",
    "\n",
    "# Load the pre-trained MobileNet model without the top layer\n",
    "base_model = MobileNet(weights='imagenet', include_top=False, input_shape=(224, 224, 3),alpha=0.25)\n",
    "\n",
    "# Freeze the layers of the base model\n",
    "for layer in base_model.layers:\n",
    "    layer.trainable = False\n",
    "\n",
    "# Adding custom layers\n",
    "x = base_model.output\n",
    "x = GlobalAveragePooling2D()(x)  \n",
    "\n",
    "x = Flatten()(x) \n",
    "x = Dense(256, activation='relu')(x) \n",
    "x = BatchNormalization()(x)  \n",
    "x = Dropout(0.5)(x) \n",
    "\n",
    "# x = Dense(512, activation='relu')(x)  \n",
    "# x = BatchNormalization()(x)\n",
    "# x = Dropout(0.5)(x)\n",
    "\n",
    "predictions = Dense(2, activation='softmax')(x)  \n",
    "\n",
    "# Create the final model\n",
    "model = Model(inputs=base_model.input, outputs=predictions)\n",
    "\n",
    "# Compile the model\n",
    "model.compile(optimizer='adam', loss='categorical_crossentropy', metrics=['accuracy'])\n",
    "\n"
   ]
  },
  {
   "cell_type": "code",
   "execution_count": 18,
   "metadata": {},
   "outputs": [
    {
     "name": "stdout",
     "output_type": "stream",
     "text": [
      "Found 7229 images belonging to 2 classes.\n",
      "Found 1806 images belonging to 2 classes.\n"
     ]
    }
   ],
   "source": [
    "from tensorflow.keras.preprocessing.image import ImageDataGenerator\n",
    "# Setup the ImageDataGenerator for data augmentation\n",
    "train_datagen = ImageDataGenerator(\n",
    "    rescale=1./255,\n",
    "    shear_range=0.2,\n",
    "    zoom_range=0.2,\n",
    "    horizontal_flip=True,\n",
    "    validation_split=0.2)\n",
    "\n",
    "train_generator = train_datagen.flow_from_directory(\n",
    "    r'data',\n",
    "    target_size=(224, 224),\n",
    "    batch_size=32,\n",
    "    class_mode='categorical',\n",
    "    subset=\"training\")\n",
    "\n",
    "validation_generator = train_datagen.flow_from_directory(\n",
    "    r'data',\n",
    "    target_size=(224, 224),\n",
    "    batch_size=32,\n",
    "    class_mode='categorical',\n",
    "    subset=\"validation\")"
   ]
  },
  {
   "cell_type": "code",
   "execution_count": 19,
   "metadata": {},
   "outputs": [
    {
     "name": "stdout",
     "output_type": "stream",
     "text": [
      "Epoch 1/2\n",
      "226/226 [==============================] - 136s 595ms/step - loss: 0.0151 - accuracy: 0.9952 - val_loss: 4.1460e-04 - val_accuracy: 1.0000\n",
      "Epoch 2/2\n",
      "226/226 [==============================] - 84s 373ms/step - loss: 0.0054 - accuracy: 0.9982 - val_loss: 2.2614e-04 - val_accuracy: 1.0000\n"
     ]
    },
    {
     "data": {
      "text/plain": [
       "<keras.src.callbacks.History at 0x1ec8a1c6f80>"
      ]
     },
     "execution_count": 19,
     "metadata": {},
     "output_type": "execute_result"
    }
   ],
   "source": [
    "# Fit the model\n",
    "model.fit(\n",
    "    train_generator,\n",
    "    epochs=2, validation_data=validation_generator)\n"
   ]
  },
  {
   "cell_type": "code",
   "execution_count": 13,
   "metadata": {},
   "outputs": [
    {
     "name": "stdout",
     "output_type": "stream",
     "text": [
      "56/56 [==============================] - 19s 335ms/step - loss: 8.0054e-06 - accuracy: 1.0000\n",
      "Loss: 0.00001, Accuracy: 100.00%\n"
     ]
    }
   ],
   "source": [
    "eval_result = model.evaluate(validation_generator, steps=validation_generator.samples // validation_generator.batch_size)\n",
    "print(\"Loss: {:.5f}, Accuracy: {:.2f}%\".format(eval_result[0], eval_result[1] * 100))\n"
   ]
  },
  {
   "cell_type": "code",
   "execution_count": 14,
   "metadata": {},
   "outputs": [
    {
     "name": "stdout",
     "output_type": "stream",
     "text": [
      "56/56 [==============================] - 17s 301ms/step\n"
     ]
    }
   ],
   "source": [
    "predictions = model.predict(validation_generator, steps=validation_generator.samples // validation_generator.batch_size)\n",
    "predicted_classes = predictions.argmax(axis=-1)\n",
    "true_classes = validation_generator.classes\n",
    "class_labels = list(validation_generator.class_indices.keys())  # Get class labels from the generator\n"
   ]
  },
  {
   "cell_type": "code",
   "execution_count": 15,
   "metadata": {},
   "outputs": [
    {
     "name": "stdout",
     "output_type": "stream",
     "text": [
      "57/57 [==============================] - 16s 286ms/step - loss: 9.8702e-06 - accuracy: 1.0000\n",
      "Loss: 0.00001, Accuracy: 100.00%\n",
      "57/57 [==============================] - 16s 287ms/step\n"
     ]
    },
    {
     "data": {
      "image/png": "[encoded data removed]",
      "text/plain": [
       "<Figure size 1000x800 with 2 Axes>"
      ]
     },
     "metadata": {},
     "output_type": "display_data"
    }
   ],
   "source": [
    "from sklearn.metrics import confusion_matrix, classification_report\n",
    "import matplotlib.pyplot as plt\n",
    "import seaborn as sns\n",
    "\n",
    "import numpy as np\n",
    "\n",
    "# Calculate the correct number of steps per epoch\n",
    "test_steps = np.ceil(validation_generator.samples / validation_generator.batch_size)\n",
    "\n",
    "# Evaluate the model\n",
    "eval_result = model.evaluate(validation_generator, steps=test_steps)\n",
    "print(\"Loss: {:.5f}, Accuracy: {:.2f}%\".format(eval_result[0], eval_result[1] * 100))\n",
    "\n",
    "# Predict classes\n",
    "predictions = model.predict(validation_generator, steps=test_steps)\n",
    "predicted_classes = np.argmax(predictions, axis=-1)\n",
    "\n",
    "\n",
    "# Compute the confusion matrix\n",
    "cm = confusion_matrix(true_classes, predicted_classes)\n",
    "\n",
    "# Plot the confusion matrix\n",
    "plt.figure(figsize=(10, 8))\n",
    "sns.heatmap(cm, annot=True, fmt=\"d\", cmap='Blues', xticklabels=class_labels, yticklabels=class_labels)\n",
    "plt.title('Confusion Matrix')\n",
    "plt.xlabel('Predicted Labels')\n",
    "plt.ylabel('True Labels')\n",
    "plt.show()\n"
   ]
  },
  {
   "cell_type": "code",
   "execution_count": 16,
   "metadata": {},
   "outputs": [
    {
     "name": "stdout",
     "output_type": "stream",
     "text": [
      "              precision    recall  f1-score   support\n",
      "\n",
      "           0       0.26      0.26      0.26       428\n",
      "           1       0.77      0.77      0.77      1378\n",
      "\n",
      "    accuracy                           0.65      1806\n",
      "   macro avg       0.51      0.51      0.51      1806\n",
      "weighted avg       0.65      0.65      0.65      1806\n",
      "\n"
     ]
    }
   ],
   "source": [
    "print(classification_report(true_classes, predicted_classes))"
   ]
  },
  {
   "cell_type": "code",
   "execution_count": null,
   "metadata": {},
   "outputs": [],
   "source": [
    "model.save(\"mobilent_br.h5\")"
   ]
  },
  {
   "cell_type": "code",
   "execution_count": 19,
   "metadata": {},
   "outputs": [],
   "source": [
    "import tensorflow as tf\n",
    "from tensorflow.keras.applications import ResNetRS101\n",
    "from tensorflow.keras.layers import GlobalAveragePooling2D, Dense, Dropout, Flatten, BatchNormalization\n",
    "from tensorflow.keras.models import Model\n",
    "from tensorflow.keras.preprocessing.image import ImageDataGenerator\n",
    "\n",
    "# Load the pre-trained MobileNet model without the top layer\n",
    "base_model = ResNetRS101(weights='imagenet', include_top=False, input_shape=(224, 224, 3))\n",
    "\n",
    "# Freeze the layers of the base model\n",
    "for layer in base_model.layers:\n",
    "    layer.trainable = False\n",
    "\n",
    "# Adding custom layers\n",
    "x = base_model.output\n",
    "x = GlobalAveragePooling2D()(x)  \n",
    "\n",
    "x = Flatten()(x) \n",
    "x = Dense(1024, activation='relu')(x) \n",
    "x = BatchNormalization()(x)  \n",
    "x = Dropout(0.5)(x) \n",
    "\n",
    "x = Dense(512, activation='relu')(x)  \n",
    "x = BatchNormalization()(x)\n",
    "x = Dropout(0.5)(x)\n",
    "\n",
    "predictions = Dense(2, activation='softmax')(x)  \n",
    "\n",
    "# Create the final model\n",
    "model = Model(inputs=base_model.input, outputs=predictions)\n",
    "\n",
    "# Compile the model\n",
    "model.compile(optimizer='adam', loss='categorical_crossentropy', metrics=['accuracy'])\n",
    "\n"
   ]
  },
  {
   "cell_type": "code",
   "execution_count": 20,
   "metadata": {},
   "outputs": [
    {
     "name": "stdout",
     "output_type": "stream",
     "text": [
      "Epoch 1/10\n",
      "226/226 [==============================] - 743s 3s/step - loss: 0.1051 - accuracy: 0.9686 - val_loss: 0.0434 - val_accuracy: 0.9839\n",
      "Epoch 2/10\n",
      "226/226 [==============================] - 731s 3s/step - loss: 0.0456 - accuracy: 0.9881 - val_loss: 0.0618 - val_accuracy: 0.9690\n",
      "Epoch 3/10\n",
      "226/226 [==============================] - 759s 3s/step - loss: 0.0298 - accuracy: 0.9931 - val_loss: 0.0039 - val_accuracy: 0.9989\n",
      "Epoch 4/10\n",
      "226/226 [==============================] - 890s 4s/step - loss: 0.0273 - accuracy: 0.9932 - val_loss: 0.0013 - val_accuracy: 0.9994\n",
      "Epoch 5/10\n",
      "226/226 [==============================] - 917s 4s/step - loss: 0.0173 - accuracy: 0.9952 - val_loss: 0.0059 - val_accuracy: 0.9983\n",
      "Epoch 6/10\n",
      "226/226 [==============================] - 763s 3s/step - loss: 0.0205 - accuracy: 0.9949 - val_loss: 0.0043 - val_accuracy: 0.9989\n",
      "Epoch 7/10\n",
      "226/226 [==============================] - 739s 3s/step - loss: 0.0256 - accuracy: 0.9939 - val_loss: 5.8939e-04 - val_accuracy: 1.0000\n",
      "Epoch 8/10\n",
      "226/226 [==============================] - 769s 3s/step - loss: 0.0099 - accuracy: 0.9970 - val_loss: 1.3890e-04 - val_accuracy: 1.0000\n",
      "Epoch 9/10\n",
      "226/226 [==============================] - 983s 4s/step - loss: 0.0155 - accuracy: 0.9954 - val_loss: 0.0101 - val_accuracy: 0.9967\n",
      "Epoch 10/10\n",
      "226/226 [==============================] - 1326s 6s/step - loss: 0.0150 - accuracy: 0.9961 - val_loss: 3.4227e-04 - val_accuracy: 1.0000\n"
     ]
    },
    {
     "data": {
      "text/plain": [
       "<keras.src.callbacks.History at 0x1cfbcab2050>"
      ]
     },
     "execution_count": 20,
     "metadata": {},
     "output_type": "execute_result"
    }
   ],
   "source": [
    "# Fit the model\n",
    "model.fit(\n",
    "    train_generator,\n",
    "    epochs=10, validation_data=validation_generator)\n"
   ]
  },
  {
   "cell_type": "code",
   "execution_count": 21,
   "metadata": {},
   "outputs": [
    {
     "name": "stdout",
     "output_type": "stream",
     "text": [
      "56/56 [==============================] - 267s 5s/step - loss: 3.2242e-04 - accuracy: 1.0000\n",
      "Loss: 0.00032, Accuracy: 100.00%\n"
     ]
    }
   ],
   "source": [
    "eval_result = model.evaluate(validation_generator, steps=validation_generator.samples // validation_generator.batch_size)\n",
    "print(\"Loss: {:.5f}, Accuracy: {:.2f}%\".format(eval_result[0], eval_result[1] * 100))\n"
   ]
  },
  {
   "cell_type": "code",
   "execution_count": 22,
   "metadata": {},
   "outputs": [
    {
     "name": "stdout",
     "output_type": "stream",
     "text": [
      "56/56 [==============================] - 293s 5s/step\n"
     ]
    }
   ],
   "source": [
    "predictions = model.predict(validation_generator, steps=validation_generator.samples // validation_generator.batch_size)\n",
    "predicted_classes = predictions.argmax(axis=-1)\n",
    "true_classes = validation_generator.classes\n",
    "class_labels = list(validation_generator.class_indices.keys())  # Get class labels from the generator\n"
   ]
  },
  {
   "cell_type": "code",
   "execution_count": 23,
   "metadata": {},
   "outputs": [
    {
     "name": "stdout",
     "output_type": "stream",
     "text": [
      "57/57 [==============================] - 267s 5s/step - loss: 3.3779e-04 - accuracy: 1.0000\n",
      "Loss: 0.00034, Accuracy: 100.00%\n",
      "57/57 [==============================] - 274s 5s/step\n"
     ]
    },
    {
     "data": {
      "image/png": "[encoded data removed]",
      "text/plain": [
       "<Figure size 1000x800 with 2 Axes>"
      ]
     },
     "metadata": {},
     "output_type": "display_data"
    }
   ],
   "source": [
    "from sklearn.metrics import confusion_matrix, classification_report\n",
    "import matplotlib.pyplot as plt\n",
    "import seaborn as sns\n",
    "\n",
    "import numpy as np\n",
    "\n",
    "# Calculate the correct number of steps per epoch\n",
    "test_steps = np.ceil(validation_generator.samples / validation_generator.batch_size)\n",
    "\n",
    "# Evaluate the model\n",
    "eval_result = model.evaluate(validation_generator, steps=test_steps)\n",
    "print(\"Loss: {:.5f}, Accuracy: {:.2f}%\".format(eval_result[0], eval_result[1] * 100))\n",
    "\n",
    "# Predict classes\n",
    "predictions = model.predict(validation_generator, steps=test_steps)\n",
    "predicted_classes = np.argmax(predictions, axis=-1)\n",
    "\n",
    "\n",
    "# Compute the confusion matrix\n",
    "cm = confusion_matrix(true_classes, predicted_classes)\n",
    "\n",
    "# Plot the confusion matrix\n",
    "plt.figure(figsize=(10, 8))\n",
    "sns.heatmap(cm, annot=True, fmt=\"d\", cmap='Blues', xticklabels=class_labels, yticklabels=class_labels)\n",
    "plt.title('Confusion Matrix')\n",
    "plt.xlabel('Predicted Labels')\n",
    "plt.ylabel('True Labels')\n",
    "plt.show()\n"
   ]
  },
  {
   "cell_type": "code",
   "execution_count": 24,
   "metadata": {},
   "outputs": [
    {
     "name": "stderr",
     "output_type": "stream",
     "text": [
      "C:\\Users\\0871\\AppData\\Roaming\\Python\\Python310\\site-packages\\keras\\src\\engine\\training.py:3103: UserWarning: You are saving your model as an HDF5 file via `model.save()`. This file format is considered legacy. We recommend using instead the native Keras format, e.g. `model.save('my_model.keras')`.\n",
      "  saving_api.save_model(\n"
     ]
    }
   ],
   "source": [
    "model.save(\"resnet_br.h5\")"
   ]
  },
  {
   "cell_type": "code",
   "execution_count": 25,
   "metadata": {},
   "outputs": [],
   "source": [
    "import tensorflow as tf\n",
    "from tensorflow.keras.applications import VGG16\n",
    "from tensorflow.keras.layers import GlobalAveragePooling2D, Dense, Dropout, Flatten, BatchNormalization\n",
    "from tensorflow.keras.models import Model\n",
    "from tensorflow.keras.preprocessing.image import ImageDataGenerator\n",
    "\n",
    "# Load the pre-trained MobileNet model without the top layer\n",
    "base_model = VGG16(weights='imagenet', include_top=False, input_shape=(224, 224, 3))\n",
    "\n",
    "# Freeze the layers of the base model\n",
    "for layer in base_model.layers:\n",
    "    layer.trainable = False\n",
    "\n",
    "# Adding custom layers\n",
    "x = base_model.output\n",
    "x = GlobalAveragePooling2D()(x)  \n",
    "\n",
    "x = Flatten()(x) \n",
    "x = Dense(1024, activation='relu')(x) \n",
    "x = BatchNormalization()(x)  \n",
    "x = Dropout(0.5)(x) \n",
    "\n",
    "x = Dense(512, activation='relu')(x)  \n",
    "x = BatchNormalization()(x)\n",
    "x = Dropout(0.5)(x)\n",
    "\n",
    "predictions = Dense(2, activation='softmax')(x)  \n",
    "\n",
    "# Create the final model\n",
    "model = Model(inputs=base_model.input, outputs=predictions)\n",
    "\n",
    "# Compile the model\n",
    "model.compile(optimizer='adam', loss='categorical_crossentropy', metrics=['accuracy'])\n",
    "\n"
   ]
  },
  {
   "cell_type": "code",
   "execution_count": 26,
   "metadata": {},
   "outputs": [
    {
     "name": "stdout",
     "output_type": "stream",
     "text": [
      "Epoch 1/10\n",
      "226/226 [==============================] - 1273s 6s/step - loss: 0.0193 - accuracy: 0.9929 - val_loss: 0.0033 - val_accuracy: 1.0000\n",
      "Epoch 2/10\n",
      "226/226 [==============================] - 1031s 5s/step - loss: 7.5399e-04 - accuracy: 0.9997 - val_loss: 7.0039e-05 - val_accuracy: 1.0000\n",
      "Epoch 3/10\n",
      "226/226 [==============================] - 1017s 4s/step - loss: 4.4790e-04 - accuracy: 0.9999 - val_loss: 3.6421e-06 - val_accuracy: 1.0000\n",
      "Epoch 4/10\n",
      "226/226 [==============================] - 1016s 4s/step - loss: 0.0016 - accuracy: 0.9997 - val_loss: 6.6007e-11 - val_accuracy: 1.0000\n",
      "Epoch 5/10\n",
      "226/226 [==============================] - 1018s 5s/step - loss: 4.6355e-04 - accuracy: 0.9999 - val_loss: 4.0122e-06 - val_accuracy: 1.0000\n",
      "Epoch 6/10\n",
      "226/226 [==============================] - 1018s 5s/step - loss: 6.2495e-05 - accuracy: 1.0000 - val_loss: 1.2418e-06 - val_accuracy: 1.0000\n",
      "Epoch 7/10\n",
      "226/226 [==============================] - 976s 4s/step - loss: 7.3190e-04 - accuracy: 0.9999 - val_loss: 1.1528e-06 - val_accuracy: 1.0000\n",
      "Epoch 8/10\n",
      "226/226 [==============================] - 531s 2s/step - loss: 6.3131e-04 - accuracy: 0.9997 - val_loss: 4.0396e-07 - val_accuracy: 1.0000\n",
      "Epoch 9/10\n",
      "226/226 [==============================] - 531s 2s/step - loss: 5.9574e-05 - accuracy: 1.0000 - val_loss: 6.6271e-08 - val_accuracy: 1.0000\n",
      "Epoch 10/10\n",
      "226/226 [==============================] - 531s 2s/step - loss: 1.3359e-05 - accuracy: 1.0000 - val_loss: 1.1479e-07 - val_accuracy: 1.0000\n"
     ]
    },
    {
     "data": {
      "text/plain": [
       "<keras.src.callbacks.History at 0x1cfb6e5dab0>"
      ]
     },
     "execution_count": 26,
     "metadata": {},
     "output_type": "execute_result"
    }
   ],
   "source": [
    "# Fit the model\n",
    "model.fit(\n",
    "    train_generator,\n",
    "    epochs=10, validation_data=validation_generator)\n"
   ]
  },
  {
   "cell_type": "code",
   "execution_count": 27,
   "metadata": {},
   "outputs": [
    {
     "name": "stdout",
     "output_type": "stream",
     "text": [
      "56/56 [==============================] - 106s 2s/step - loss: 1.2493e-07 - accuracy: 1.0000\n",
      "Loss: 0.00000, Accuracy: 100.00%\n"
     ]
    }
   ],
   "source": [
    "eval_result = model.evaluate(validation_generator, steps=validation_generator.samples // validation_generator.batch_size)\n",
    "print(\"Loss: {:.5f}, Accuracy: {:.2f}%\".format(eval_result[0], eval_result[1] * 100))\n"
   ]
  },
  {
   "cell_type": "code",
   "execution_count": 28,
   "metadata": {},
   "outputs": [
    {
     "name": "stdout",
     "output_type": "stream",
     "text": [
      "56/56 [==============================] - 107s 2s/step\n"
     ]
    }
   ],
   "source": [
    "predictions = model.predict(validation_generator, steps=validation_generator.samples // validation_generator.batch_size)\n",
    "predicted_classes = predictions.argmax(axis=-1)\n",
    "true_classes = validation_generator.classes\n",
    "class_labels = list(validation_generator.class_indices.keys())  # Get class labels from the generator\n"
   ]
  },
  {
   "cell_type": "code",
   "execution_count": 29,
   "metadata": {},
   "outputs": [
    {
     "name": "stdout",
     "output_type": "stream",
     "text": [
      "57/57 [==============================] - 109s 2s/step - loss: 1.1980e-07 - accuracy: 1.0000\n",
      "Loss: 0.00000, Accuracy: 100.00%\n",
      "57/57 [==============================] - 109s 2s/step\n"
     ]
    },
    {
     "data": {
      "image/png": "[encoded data removed]",
      "text/plain": [
       "<Figure size 1000x800 with 2 Axes>"
      ]
     },
     "metadata": {},
     "output_type": "display_data"
    }
   ],
   "source": [
    "from sklearn.metrics import confusion_matrix, classification_report\n",
    "import matplotlib.pyplot as plt\n",
    "import seaborn as sns\n",
    "\n",
    "import numpy as np\n",
    "\n",
    "# Calculate the correct number of steps per epoch\n",
    "test_steps = np.ceil(validation_generator.samples / validation_generator.batch_size)\n",
    "\n",
    "# Evaluate the model\n",
    "eval_result = model.evaluate(validation_generator, steps=test_steps)\n",
    "print(\"Loss: {:.5f}, Accuracy: {:.2f}%\".format(eval_result[0], eval_result[1] * 100))\n",
    "\n",
    "# Predict classes\n",
    "predictions = model.predict(validation_generator, steps=test_steps)\n",
    "predicted_classes = np.argmax(predictions, axis=-1)\n",
    "\n",
    "\n",
    "# Compute the confusion matrix\n",
    "cm = confusion_matrix(true_classes, predicted_classes)\n",
    "\n",
    "# Plot the confusion matrix\n",
    "plt.figure(figsize=(10, 8))\n",
    "sns.heatmap(cm, annot=True, fmt=\"d\", cmap='Blues', xticklabels=class_labels, yticklabels=class_labels)\n",
    "plt.title('Confusion Matrix')\n",
    "plt.xlabel('Predicted Labels')\n",
    "plt.ylabel('True Labels')\n",
    "plt.show()\n"
   ]
  },
  {
   "cell_type": "code",
   "execution_count": 30,
   "metadata": {},
   "outputs": [
    {
     "name": "stderr",
     "output_type": "stream",
     "text": [
      "C:\\Users\\0871\\AppData\\Roaming\\Python\\Python310\\site-packages\\keras\\src\\engine\\training.py:3103: UserWarning: You are saving your model as an HDF5 file via `model.save()`. This file format is considered legacy. We recommend using instead the native Keras format, e.g. `model.save('my_model.keras')`.\n",
      "  saving_api.save_model(\n"
     ]
    }
   ],
   "source": [
    "model.save(\"vgg16_br.h5\")"
   ]
  },
  {
   "cell_type": "code",
   "execution_count": 31,
   "metadata": {},
   "outputs": [
    {
     "name": "stdout",
     "output_type": "stream",
     "text": [
      "              precision    recall  f1-score   support\n",
      "\n",
      "           0       0.25      0.25      0.25       428\n",
      "           1       0.77      0.77      0.77      1378\n",
      "\n",
      "    accuracy                           0.65      1806\n",
      "   macro avg       0.51      0.51      0.51      1806\n",
      "weighted avg       0.65      0.65      0.65      1806\n",
      "\n"
     ]
    }
   ],
   "source": [
    "print(classification_report(true_classes, predicted_classes))"
   ]
  },
  {
   "cell_type": "code",
   "execution_count": 16,
   "metadata": {},
   "outputs": [
    {
     "name": "stdout",
     "output_type": "stream",
     "text": [
      "Model: \"sequential_6\"\n",
      "_________________________________________________________________\n",
      " Layer (type)                Output Shape              Param #   \n",
      "=================================================================\n",
      " conv2d_18 (Conv2D)          (None, 222, 222, 32)      896       \n",
      "                                                                 \n",
      " max_pooling2d_18 (MaxPooli  (None, 111, 111, 32)      0         \n",
      " ng2D)                                                           \n",
      "                                                                 \n",
      " conv2d_19 (Conv2D)          (None, 109, 109, 64)      18496     \n",
      "                                                                 \n",
      " max_pooling2d_19 (MaxPooli  (None, 54, 54, 64)        0         \n",
      " ng2D)                                                           \n",
      "                                                                 \n",
      " conv2d_20 (Conv2D)          (None, 52, 52, 128)       73856     \n",
      "                                                                 \n",
      " max_pooling2d_20 (MaxPooli  (None, 26, 26, 128)       0         \n",
      " ng2D)                                                           \n",
      "                                                                 \n",
      " flatten_6 (Flatten)         (None, 86528)             0         \n",
      "                                                                 \n",
      " dense_10 (Dense)            (None, 512)               44302848  \n",
      "                                                                 \n",
      " dense_11 (Dense)            (None, 2)                 1026      \n",
      "                                                                 \n",
      "=================================================================\n",
      "Total params: 44397122 (169.36 MB)\n",
      "Trainable params: 44397122 (169.36 MB)\n",
      "Non-trainable params: 0 (0.00 Byte)\n",
      "_________________________________________________________________\n"
     ]
    }
   ],
   "source": [
    "from tensorflow.keras.models import Sequential\n",
    "from tensorflow.keras.layers import Conv2D, MaxPooling2D, Flatten, Dense\n",
    "\n",
    "model = Sequential([\n",
    "    Conv2D(32, (3, 3), activation='relu', input_shape=(224, 224, 3)),\n",
    "    MaxPooling2D(2, 2),\n",
    "    Conv2D(64, (3, 3), activation='relu'),\n",
    "    MaxPooling2D(2, 2),\n",
    "    Conv2D(128, (3, 3), activation='relu'),\n",
    "    MaxPooling2D(2, 2),\n",
    "    Flatten(),\n",
    "    Dense(512, activation='relu'),\n",
    "    Dense(2, activation='softmax')  # Adjust this layer depending on your classification needs\n",
    "])\n",
    "\n",
    "model.compile(optimizer='adam', loss='categorical_crossentropy', metrics=['accuracy'])\n",
    "model.summary()\n"
   ]
  },
  {
   "cell_type": "code",
   "execution_count": 17,
   "metadata": {},
   "outputs": [
    {
     "name": "stdout",
     "output_type": "stream",
     "text": [
      "Epoch 1/15\n",
      "226/226 [==============================] - 783s 3s/step - loss: 0.0394 - accuracy: 0.9913 - val_loss: 1.8231e-07 - val_accuracy: 1.0000\n",
      "Epoch 2/15\n",
      "226/226 [==============================] - 718s 3s/step - loss: 1.5537e-06 - accuracy: 1.0000 - val_loss: 5.5776e-08 - val_accuracy: 1.0000\n",
      "Epoch 3/15\n",
      "226/226 [==============================] - 740s 3s/step - loss: 5.2921e-07 - accuracy: 1.0000 - val_loss: 2.7525e-08 - val_accuracy: 1.0000\n",
      "Epoch 4/15\n",
      "226/226 [==============================] - 702s 3s/step - loss: 2.9092e-07 - accuracy: 1.0000 - val_loss: 1.7228e-08 - val_accuracy: 1.0000\n",
      "Epoch 5/15\n",
      "226/226 [==============================] - 709s 3s/step - loss: 2.0547e-07 - accuracy: 1.0000 - val_loss: 7.9869e-09 - val_accuracy: 1.0000\n",
      "Epoch 6/15\n",
      "226/226 [==============================] - 697s 3s/step - loss: 1.1316e-07 - accuracy: 1.0000 - val_loss: 3.8944e-09 - val_accuracy: 1.0000\n",
      "Epoch 7/15\n",
      "226/226 [==============================] - 762s 3s/step - loss: 8.3689e-08 - accuracy: 1.0000 - val_loss: 2.6403e-09 - val_accuracy: 1.0000\n",
      "Epoch 8/15\n",
      "226/226 [==============================] - 720s 3s/step - loss: 7.5015e-08 - accuracy: 1.0000 - val_loss: 2.0462e-09 - val_accuracy: 1.0000\n",
      "Epoch 9/15\n",
      "226/226 [==============================] - 734s 3s/step - loss: 6.0338e-08 - accuracy: 1.0000 - val_loss: 5.2806e-10 - val_accuracy: 1.0000\n",
      "Epoch 10/15\n",
      "226/226 [==============================] - 748s 3s/step - loss: 4.0237e-08 - accuracy: 1.0000 - val_loss: 3.3004e-10 - val_accuracy: 1.0000\n",
      "Epoch 11/15\n",
      "226/226 [==============================] - 700s 3s/step - loss: 3.0524e-08 - accuracy: 1.0000 - val_loss: 3.9604e-10 - val_accuracy: 1.0000\n",
      "Epoch 12/15\n",
      "226/226 [==============================] - 653s 3s/step - loss: 2.7522e-08 - accuracy: 1.0000 - val_loss: 6.6007e-11 - val_accuracy: 1.0000\n",
      "Epoch 13/15\n",
      "226/226 [==============================] - 675s 3s/step - loss: 1.9442e-08 - accuracy: 1.0000 - val_loss: 6.6007e-11 - val_accuracy: 1.0000\n",
      "Epoch 14/15\n",
      "226/226 [==============================] - 698s 3s/step - loss: 1.6062e-08 - accuracy: 1.0000 - val_loss: 0.0000e+00 - val_accuracy: 1.0000\n",
      "Epoch 15/15\n",
      "226/226 [==============================] - 699s 3s/step - loss: 1.3835e-08 - accuracy: 1.0000 - val_loss: 0.0000e+00 - val_accuracy: 1.0000\n"
     ]
    }
   ],
   "source": [
    "model.compile(optimizer=\"adam\",loss=\"categorical_crossentropy\",metrics=[\"accuracy\"])\n",
    "history = model.fit(\n",
    "    train_generator,\n",
    "    epochs=15,\n",
    "    validation_data=validation_generator,\n",
    ")\n"
   ]
  },
  {
   "cell_type": "code",
   "execution_count": 18,
   "metadata": {},
   "outputs": [
    {
     "name": "stdout",
     "output_type": "stream",
     "text": [
      "56/56 [==============================] - 94s 2s/step - loss: 0.0000e+00 - accuracy: 1.0000\n",
      "Loss: 0.00000, Accuracy: 100.00%\n"
     ]
    }
   ],
   "source": [
    "eval_result = model.evaluate(validation_generator, steps=validation_generator.samples // validation_generator.batch_size)\n",
    "print(\"Loss: {:.5f}, Accuracy: {:.2f}%\".format(eval_result[0], eval_result[1] * 100))\n"
   ]
  },
  {
   "cell_type": "code",
   "execution_count": 21,
   "metadata": {},
   "outputs": [
    {
     "name": "stdout",
     "output_type": "stream",
     "text": [
      "56/56 [==============================] - 99s 2s/step\n"
     ]
    }
   ],
   "source": [
    "predictions = model.predict(validation_generator, steps=validation_generator.samples // validation_generator.batch_size)\n",
    "predicted_classes = predictions.argmax(axis=-1)\n",
    "true_classes = validation_generator.classes\n",
    "class_labels = list(validation_generator.class_indices.keys())  # Get class labels from the generator\n"
   ]
  },
  {
   "cell_type": "code",
   "execution_count": 22,
   "metadata": {},
   "outputs": [
    {
     "name": "stdout",
     "output_type": "stream",
     "text": [
      "57/57 [==============================] - 89s 2s/step - loss: 0.0000e+00 - accuracy: 1.0000\n",
      "Loss: 0.00000, Accuracy: 100.00%\n",
      "57/57 [==============================] - 87s 2s/step\n"
     ]
    },
    {
     "data": {
      "image/png": "[encoded data removed]",
      "text/plain": [
       "<Figure size 1000x800 with 2 Axes>"
      ]
     },
     "metadata": {},
     "output_type": "display_data"
    }
   ],
   "source": [
    "from sklearn.metrics import confusion_matrix, classification_report\n",
    "import matplotlib.pyplot as plt\n",
    "import seaborn as sns\n",
    "\n",
    "import numpy as np\n",
    "\n",
    "# Calculate the correct number of steps per epoch\n",
    "test_steps = np.ceil(validation_generator.samples / validation_generator.batch_size)\n",
    "\n",
    "# Evaluate the model\n",
    "eval_result = model.evaluate(validation_generator, steps=test_steps)\n",
    "print(\"Loss: {:.5f}, Accuracy: {:.2f}%\".format(eval_result[0], eval_result[1] * 100))\n",
    "\n",
    "# Predict classes\n",
    "predictions = model.predict(validation_generator, steps=test_steps)\n",
    "predicted_classes = np.argmax(predictions, axis=-1)\n",
    "\n",
    "\n",
    "# Compute the confusion matrix\n",
    "cm = confusion_matrix(true_classes, predicted_classes)\n",
    "\n",
    "# Plot the confusion matrix\n",
    "plt.figure(figsize=(10, 8))\n",
    "sns.heatmap(cm, annot=True, fmt=\"d\", cmap='Blues', xticklabels=class_labels, yticklabels=class_labels)\n",
    "plt.title('Confusion Matrix')\n",
    "plt.xlabel('Predicted Labels')\n",
    "plt.ylabel('True Labels')\n",
    "plt.show()\n"
   ]
  },
  {
   "cell_type": "code",
   "execution_count": 23,
   "metadata": {},
   "outputs": [
    {
     "name": "stdout",
     "output_type": "stream",
     "text": [
      "              precision    recall  f1-score   support\n",
      "\n",
      "           0       0.26      0.26      0.26       428\n",
      "           1       0.77      0.77      0.77      1378\n",
      "\n",
      "    accuracy                           0.65      1806\n",
      "   macro avg       0.51      0.51      0.51      1806\n",
      "weighted avg       0.65      0.65      0.65      1806\n",
      "\n"
     ]
    }
   ],
   "source": [
    "print(classification_report(true_classes, predicted_classes))"
   ]
  },
  {
   "cell_type": "code",
   "execution_count": 24,
   "metadata": {},
   "outputs": [
    {
     "name": "stderr",
     "output_type": "stream",
     "text": [
      "C:\\Users\\0871\\AppData\\Roaming\\Python\\Python310\\site-packages\\keras\\src\\engine\\training.py:3103: UserWarning: You are saving your model as an HDF5 file via `model.save()`. This file format is considered legacy. We recommend using instead the native Keras format, e.g. `model.save('my_model.keras')`.\n",
      "  saving_api.save_model(\n"
     ]
    }
   ],
   "source": [
    "model.save(\"cnn_br.h5\")"
   ]
  },
  {
   "cell_type": "code",
   "execution_count": null,
   "metadata": {},
   "outputs": [],
   "source": []
  }
 ],
 "metadata": {
  "kernelspec": {
   "display_name": "Python 3",
   "language": "python",
   "name": "python3"
  },
  "language_info": {
   "codemirror_mode": {
    "name": "ipython",
    "version": 3
   },
   "file_extension": ".py",
   "mimetype": "text/x-python",
   "name": "python",
   "nbconvert_exporter": "python",
   "pygments_lexer": "ipython3",
   "version": "3.10.8"
  }
 },
 "nbformat": 4,
 "nbformat_minor": 2
}
